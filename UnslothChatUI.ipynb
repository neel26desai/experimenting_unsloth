{
  "nbformat": 4,
  "nbformat_minor": 0,
  "metadata": {
    "colab": {
      "provenance": [],
      "gpuType": "T4",
      "authorship_tag": "ABX9TyMxpd9UdEW5dXgqGsmhCX/N",
      "include_colab_link": true
    },
    "kernelspec": {
      "name": "python3",
      "display_name": "Python 3"
    },
    "language_info": {
      "name": "python"
    },
    "accelerator": "GPU"
  },
  "cells": [
    {
      "cell_type": "markdown",
      "metadata": {
        "id": "view-in-github",
        "colab_type": "text"
      },
      "source": [
        "<a href=\"https://colab.research.google.com/github/neel26desai/experimenting_unsloth/blob/main/UnslothChatUI.ipynb\" target=\"_parent\"><img src=\"https://colab.research.google.com/assets/colab-badge.svg\" alt=\"Open In Colab\"/></a>"
      ]
    },
    {
      "cell_type": "code",
      "execution_count": 1,
      "metadata": {
        "colab": {
          "base_uri": "https://localhost:8080/",
          "height": 538
        },
        "id": "FQ-zA4tkoQtS",
        "outputId": "4a91710c-20d8-4689-b325-6ceccd1c336b"
      },
      "outputs": [
        {
          "output_type": "stream",
          "name": "stdout",
          "text": [
            "\n"
          ]
        },
        {
          "output_type": "display_data",
          "data": {
            "text/plain": [
              "<IPython.core.display.HTML object>"
            ],
            "text/html": [
              "<div><iframe src=\"https://dda328868f4585cf21.gradio.live\" width=\"100%\" height=\"500\" allow=\"autoplay; camera; microphone; clipboard-read; clipboard-write;\" frameborder=\"0\" allowfullscreen></iframe></div>"
            ]
          },
          "metadata": {}
        }
      ],
      "source": [
        "#@title ↙️ Press ▶ to start 🦥 Unsloth Studio Chat for Llama-3.1 8b\n",
        "\n",
        "# Unsloth Studio\n",
        "# Copyright (C) 2024-present the Unsloth AI team. All rights reserved.\n",
        "\n",
        "# This program is free software: you can redistribute it and/or modify\n",
        "# it under the terms of the GNU Affero General Public License as published\n",
        "# by the Free Software Foundation, either version 3 of the License, or\n",
        "# (at your option) any later version.\n",
        "\n",
        "# This program is distributed in the hope that it will be useful,\n",
        "# but WITHOUT ANY WARRANTY; without even the implied warranty of\n",
        "# MERCHANTABILITY or FITNESS FOR A PARTICULAR PURPOSE.  See the\n",
        "# GNU Affero General Public License for more details.\n",
        "\n",
        "# You should have received a copy of the GNU Affero General Public License\n",
        "# along with this program.  If not, see <https://www.gnu.org/licenses/>.\n",
        "!git clone https://github.com/unslothai/studio > /dev/null 2>&1\n",
        "with open(\"studio/unsloth_studio/chat.py\", \"r\") as chat_module: code = chat_module.read()\n",
        "exec(code)"
      ]
    },
    {
      "cell_type": "markdown",
      "source": [
        "You can change the Model, which is being used for chat, by specifying model, in the chat.py file, line 22.\n",
        "\n",
        "\n",
        "MODEL_NAME = \"unsloth/Meta-Llama-3.1-8B-Instruct-bnb-4bit\""
      ],
      "metadata": {
        "id": "3Q3GeAeAqNIw"
      }
    },
    {
      "cell_type": "code",
      "source": [],
      "metadata": {
        "id": "JtXgAK6nsOy3"
      },
      "execution_count": null,
      "outputs": []
    }
  ]
}